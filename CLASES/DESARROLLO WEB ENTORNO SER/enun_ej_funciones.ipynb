{
 "cells": [
  {
   "cell_type": "markdown",
   "id": "4d6dfbdc",
   "metadata": {},
   "source": [
    "## Ejercicio 1:\n",
    "### Escribir un programa Python que utilice una función recursiva para calcular la suma de los enteros positivos de n+(n-2)+(n-4)... (hasta que n-x <= 0)."
   ]
  },
  {
   "cell_type": "code",
   "execution_count": 20,
   "id": "36ccfa27",
   "metadata": {},
   "outputs": [
    {
     "name": "stdout",
     "output_type": "stream",
     "text": [
      "\n",
      "\n",
      "Recursion Example Results\n",
      "1\n",
      "3\n",
      "6\n",
      "10\n",
      "15\n",
      "21\n",
      "28\n",
      "36\n",
      "45\n",
      "55\n"
     ]
    },
    {
     "data": {
      "text/plain": [
       "55"
      ]
     },
     "execution_count": 20,
     "metadata": {},
     "output_type": "execute_result"
    }
   ],
   "source": [
    "def recursion(n):\n",
    "  if(n > 0):\n",
    "    result = n + recursion(n - 1)\n",
    "    print(result)\n",
    "  else:\n",
    "    result = 0\n",
    "  return result\n",
    "\n",
    "print(\"\\n\\nRecursion Example Results\")\n",
    "recursion(10)\n"
   ]
  },
  {
   "cell_type": "markdown",
   "id": "26d59f5c",
   "metadata": {},
   "source": [
    "## Ejercicio 2\n",
    "### Escribir un programa Python que utilice una función recursiva para calcular la suma de los elementos de una lista que tiene algunos elementos tipo lista.\n",
    "### Por ejemplo, que calcule la suma de los elementos de la siguiente lista:\n",
    "### [1, 2, [3, 4], [6, 4]]"
   ]
  },
  {
   "cell_type": "markdown",
   "id": "a82a7821",
   "metadata": {},
   "source": [
    "## Ejercicio 3\n",
    "### Escribir un programa Python para calcular el valor de 'a' elevado a 'b'.\n",
    "### Ayuda: '0' elevado a 'b' será siempre '0' ; 'a' elevado a '0' será siempre '1'\n",
    "### Ayuda: $a^5=a*a^4$\n",
    "### Ejemplo de prueba: potencia(3,2) = 9"
   ]
  },
  {
   "cell_type": "markdown",
   "id": "2acf351a",
   "metadata": {},
   "source": [
    "## Ejercicio 4\n",
    "#### Escribir una función de Python que verifique si una cadena pasada es un palíndromo o no.\n",
    "#### Nota: Un palíndromo es una palabra, frase o secuencia que se lee igual hacia atrás que hacia adelante, por ejemplo: ojo, radar."
   ]
  },
  {
   "cell_type": "markdown",
   "id": "1e71732f",
   "metadata": {},
   "source": [
    "## Ejercicio 5: \n",
    "### Escribir una función de Python que acepte una cadena como parámetro de entrada y cuente el número de letras mayúsculas y minúsculas.\n",
    "### Ayuda: utilizar las funciones 'isupper()' - 'islower()'"
   ]
  },
  {
   "cell_type": "markdown",
   "id": "a3546ee3",
   "metadata": {},
   "source": [
    "## Ejercicio 6:\n",
    "### Crear una función que admita un número variable de parámetros (sin nombrar). Los parámetros pueden ser palabras o listas de 2/3 palabras. La función debe reconocer para cada parámetro si es una lista o no. Si es una lista, indicar el número de elementos de la lista; si es una palabra, indicar que el parámetro es una palabra."
   ]
  }
 ],
 "metadata": {
  "kernelspec": {
   "display_name": "Python 3 (ipykernel)",
   "language": "python",
   "name": "python3"
  },
  "language_info": {
   "codemirror_mode": {
    "name": "ipython",
    "version": 3
   },
   "file_extension": ".py",
   "mimetype": "text/x-python",
   "name": "python",
   "nbconvert_exporter": "python",
   "pygments_lexer": "ipython3",
   "version": "3.12.5"
  }
 },
 "nbformat": 4,
 "nbformat_minor": 5
}
