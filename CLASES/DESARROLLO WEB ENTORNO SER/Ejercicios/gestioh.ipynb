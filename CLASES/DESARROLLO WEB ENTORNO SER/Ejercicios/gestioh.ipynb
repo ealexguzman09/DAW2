{
 "cells": [
  {
   "cell_type": "markdown",
   "metadata": {},
   "source": [
    "1. Mostrar el menú disponible.\n",
    "2. Mostrar el pedido de cada cliente y\n",
    "calcular el total a pagar.\n",
    "3. Utilizar bucles for para recorrer los\n",
    "pedidos y calcular el total por cliente.\n",
    "4. Utilizar sentencias if-else para verificar si\n",
    "un plato pedido está en el menú y si no,\n",
    "mostrar un mensaje de error indicando\n",
    "que el plato no está disponible.\n",
    "5. Mostrar un resumen final que incluya el\n",
    "nombre de cada cliente y su total a\n",
    "pagar."
   ]
  },
  {
   "cell_type": "code",
   "execution_count": 4,
   "metadata": {},
   "outputs": [],
   "source": [
    "#Menu restaurante\n",
    "menu = {\n",
    "    \"Hamburguesa\": 8.50,\n",
    "    \"Pizza\":12.00,\n",
    "    \"Ensalada\": 7.00,\n",
    "    \"Sopa\":5.00,\n",
    "    \"Refresco\":2.50,\n",
    "    \"café\":1.80\n",
    "    }\n",
    "#Diccionario anidado pedidos\n",
    "pedidos =  {\n",
    "    \"cliente1\" : {\n",
    "    \"name\" : \"Juan\",\n",
    "    \"pedido\":[]\n",
    "  },\n",
    "    \"cliente2\" : {\n",
    "    \"name\" : \"Luis\",\n",
    "    \"pedido\":[]\n",
    "  },\n",
    "    \"cliente3\" : {\n",
    "    \"name\" : \"Ana\",\n",
    "    \"pedido\":[]\n",
    "  }\n",
    "}"
   ]
  },
  {
   "cell_type": "code",
   "execution_count": 3,
   "metadata": {},
   "outputs": [
    {
     "name": "stdout",
     "output_type": "stream",
     "text": [
      "{'Hamburguesa': 8.5, 'Pizza': 12.0, 'Ensalada': 7.0, 'Sopa': 5.0, 'Refresco': 2.5, 'café': 1.8}\n"
     ]
    }
   ],
   "source": [
    "#Mostrar menu\n",
    "menu = {\n",
    "    \"Hamburguesa\": 8.50,\n",
    "    \"Pizza\":12.00,\n",
    "    \"Ensalada\": 7.00,\n",
    "    \"Sopa\":5.00,\n",
    "    \"Refresco\":2.50,\n",
    "    \"café\":1.80\n",
    "    }\n",
    "print(menu)"
   ]
  },
  {
   "cell_type": "code",
   "execution_count": null,
   "metadata": {},
   "outputs": [],
   "source": [
    "#Mostrar el pedido de cada cliente y calcular el total a pagar."
   ]
  }
 ],
 "metadata": {
  "kernelspec": {
   "display_name": "Python 3",
   "language": "python",
   "name": "python3"
  },
  "language_info": {
   "codemirror_mode": {
    "name": "ipython",
    "version": 3
   },
   "file_extension": ".py",
   "mimetype": "text/x-python",
   "name": "python",
   "nbconvert_exporter": "python",
   "pygments_lexer": "ipython3",
   "version": "3.12.5"
  }
 },
 "nbformat": 4,
 "nbformat_minor": 2
}
