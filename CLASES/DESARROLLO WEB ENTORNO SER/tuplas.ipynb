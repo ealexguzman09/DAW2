{
 "cells": [
  {
   "cell_type": "code",
   "execution_count": null,
   "metadata": {},
   "outputs": [],
   "source": [
    "Una librería tiene un sistema de gestión de inventario que necesita ser mejorado. Actualmente,\n",
    "el inventario se gestiona con listas y tuplas. \n",
    "El objetivo de este ejercicio es realizar diversas operaciones relacionadas con el inventario.\n",
    "Cada libro en el inventario está representado por una tupla que contiene la siguiente información:\n",
    "Título del libro (cadena de texto)\n",
    "Autor (cadena de texto)\n",
    "Año de publicación (entero)\n",
    "Precio (float)\n",
    "Disponibilidad en stock (booleano)\n",
    "El inventario es una lista que contiene todas las tuplas de libros.\n",
    "Define una lista llamada inventario que contenga al menos 5 libros, donde cada libro sea una tupla con\n",
    "la siguiente estructura: (título, autor, año, precio, disponible).\n",
    "Recorre la lista de inventario e imprime los títulos de los libros que estén disponibles.\n",
    "Escribe un bloque de código que recorra el inventario y guarde en una nueva lista solo los libros cuyo precio \n",
    "esté entre un min_precio y un max_precio definidos por el usuario. Al final, imprime esta lista.\n",
    "Modifica el código de manera que puedas cambiar el valor de disponibilidad (True o False) de un libro específico, \n",
    "identificado por su título. Si el título no está en el inventario, imprime un mensaje de error.\n",
    "Implementa un bloque de código que elimine un libro del inventario basado en su título. Si el libro no existe, \n",
    "imprime un mensaje de error.\n",
    "Escribe un bloque de código que:\n",
    "    Cuente cuántos libros hay en total en el inventario.\n",
    "    Cuente cuántos están disponibles.\n",
    "    Calcule y muestre el precio promedio de todos los libros."
   ]
  },
  {
   "cell_type": "code",
   "execution_count": 6,
   "metadata": {},
   "outputs": [
    {
     "name": "stdout",
     "output_type": "stream",
     "text": [
      "[('Don Quijote', 'Miguel Cervantes', 1999, 25.0, True, 'Caperucita Roja', 'Juan Ricardo', 1985, 15.0, True, 'El arte de la pintura', 'Leonardo da v', 1666, 100.45, False, 'Los 3 Cerditos', '', 1999, 25.0, False, 'El libro de la selva', 'Manolito', 13.5, True)]\n"
     ]
    }
   ],
   "source": [
    "libro1 = (\"Don Quijote\", \"Miguel Cervantes\", 1999, 25.00, True )\n",
    "libro2 = (\"Caperucita Roja\", \"Juan Ricardo\", 1985, 15.00, True )\n",
    "libro3 = (\"El arte de la pintura\", \"Leonardo da v\", 1666, 100.45, False )\n",
    "libro4 = (\"Los 3 Cerditos\", \"\", 1999, 25.00, False )\n",
    "libro5 = (\"El libro de la selva\", \"Manolito\", 13.50, True )\n",
    "\n",
    "inventario = [libro1+libro2+libro3+libro4+libro5]\n",
    "print(inventario)"
   ]
  }
 ],
 "metadata": {
  "kernelspec": {
   "display_name": "Python 3",
   "language": "python",
   "name": "python3"
  },
  "language_info": {
   "codemirror_mode": {
    "name": "ipython",
    "version": 3
   },
   "file_extension": ".py",
   "mimetype": "text/x-python",
   "name": "python",
   "nbconvert_exporter": "python",
   "pygments_lexer": "ipython3",
   "version": "3.12.5"
  }
 },
 "nbformat": 4,
 "nbformat_minor": 2
}
